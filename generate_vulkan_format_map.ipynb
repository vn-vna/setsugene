{
 "cells": [
  {
   "cell_type": "code",
   "execution_count": 2,
   "metadata": {},
   "outputs": [],
   "source": [
    "format = [\"r\", \"rg\", \"rgb\", \"rgba\"]\n",
    "size = [\"8\", \"16\", \"32\", \"64\"]\n",
    "tp = [\"sfloat\", \"sint\", \"uint\"]\n"
   ]
  },
  {
   "cell_type": "code",
   "execution_count": 3,
   "metadata": {},
   "outputs": [
    {
     "name": "stdout",
     "output_type": "stream",
     "text": [
      "['R_8_SFLOAT', 'R_8_SINT', 'R_8_UINT', 'R_16_SFLOAT', 'R_16_SINT', 'R_16_UINT', 'R_32_SFLOAT', 'R_32_SINT', 'R_32_UINT', 'R_64_SFLOAT', 'R_64_SINT', 'R_64_UINT', 'RG_8_SFLOAT', 'RG_8_SINT', 'RG_8_UINT', 'RG_16_SFLOAT', 'RG_16_SINT', 'RG_16_UINT', 'RG_32_SFLOAT', 'RG_32_SINT', 'RG_32_UINT', 'RG_64_SFLOAT', 'RG_64_SINT', 'RG_64_UINT', 'RGB_8_SFLOAT', 'RGB_8_SINT', 'RGB_8_UINT', 'RGB_16_SFLOAT', 'RGB_16_SINT', 'RGB_16_UINT', 'RGB_32_SFLOAT', 'RGB_32_SINT', 'RGB_32_UINT', 'RGB_64_SFLOAT', 'RGB_64_SINT', 'RGB_64_UINT', 'RGBA_8_SFLOAT', 'RGBA_8_SINT', 'RGBA_8_UINT', 'RGBA_16_SFLOAT', 'RGBA_16_SINT', 'RGBA_16_UINT', 'RGBA_32_SFLOAT', 'RGBA_32_SINT', 'RGBA_32_UINT', 'RGBA_64_SFLOAT', 'RGBA_64_SINT', 'RGBA_64_UINT']\n"
     ]
    }
   ],
   "source": [
    "\n",
    "f = []\n",
    "\n",
    "for i in format:\n",
    "    for j in size:\n",
    "        for k in tp:\n",
    "            f.append(f\"{i}_{j}_{k}\".upper())\n",
    "\n",
    "\n",
    "print(f)\n"
   ]
  },
  {
   "cell_type": "code",
   "execution_count": 4,
   "metadata": {},
   "outputs": [
    {
     "name": "stdout",
     "output_type": "stream",
     "text": [
      "['VK_FORMAT_R8_SFLOAT', 'VK_FORMAT_R8_SINT', 'VK_FORMAT_R8_UINT', 'VK_FORMAT_R16_SFLOAT', 'VK_FORMAT_R16_SINT', 'VK_FORMAT_R16_UINT', 'VK_FORMAT_R32_SFLOAT', 'VK_FORMAT_R32_SINT', 'VK_FORMAT_R32_UINT', 'VK_FORMAT_R64_SFLOAT', 'VK_FORMAT_R64_SINT', 'VK_FORMAT_R64_UINT', 'VK_FORMAT_R8G8_SFLOAT', 'VK_FORMAT_R8G8_SINT', 'VK_FORMAT_R8G8_UINT', 'VK_FORMAT_R16G16_SFLOAT', 'VK_FORMAT_R16G16_SINT', 'VK_FORMAT_R16G16_UINT', 'VK_FORMAT_R32G32_SFLOAT', 'VK_FORMAT_R32G32_SINT', 'VK_FORMAT_R32G32_UINT', 'VK_FORMAT_R64G64_SFLOAT', 'VK_FORMAT_R64G64_SINT', 'VK_FORMAT_R64G64_UINT', 'VK_FORMAT_R8G8B8_SFLOAT', 'VK_FORMAT_R8G8B8_SINT', 'VK_FORMAT_R8G8B8_UINT', 'VK_FORMAT_R16G16B16_SFLOAT', 'VK_FORMAT_R16G16B16_SINT', 'VK_FORMAT_R16G16B16_UINT', 'VK_FORMAT_R32G32B32_SFLOAT', 'VK_FORMAT_R32G32B32_SINT', 'VK_FORMAT_R32G32B32_UINT', 'VK_FORMAT_R64G64B64_SFLOAT', 'VK_FORMAT_R64G64B64_SINT', 'VK_FORMAT_R64G64B64_UINT', 'VK_FORMAT_R8G8B8A8_SFLOAT', 'VK_FORMAT_R8G8B8A8_SINT', 'VK_FORMAT_R8G8B8A8_UINT', 'VK_FORMAT_R16G16B16A16_SFLOAT', 'VK_FORMAT_R16G16B16A16_SINT', 'VK_FORMAT_R16G16B16A16_UINT', 'VK_FORMAT_R32G32B32A32_SFLOAT', 'VK_FORMAT_R32G32B32A32_SINT', 'VK_FORMAT_R32G32B32A32_UINT', 'VK_FORMAT_R64G64B64A64_SFLOAT', 'VK_FORMAT_R64G64B64A64_SINT', 'VK_FORMAT_R64G64B64A64_UINT']\n"
     ]
    }
   ],
   "source": [
    "t = []\n",
    "\n",
    "for i in format:\n",
    "    for j in size:\n",
    "        for k in tp:\n",
    "            c = \"\".join([f\"{cc}{j}\" for cc in i])\n",
    "            t.append(f\"vk_format_{c}_{k}\".upper())\n",
    "\n",
    "print(t)"
   ]
  },
  {
   "cell_type": "code",
   "execution_count": 5,
   "metadata": {},
   "outputs": [
    {
     "name": "stdout",
     "output_type": "stream",
     "text": [
      "{\"R_8_SFLOAT\", VK_FORMAT_R8_SFLOAT},\n",
      "{\"R_8_SINT\", VK_FORMAT_R8_SINT},\n",
      "{\"R_8_UINT\", VK_FORMAT_R8_UINT},\n",
      "{\"R_16_SFLOAT\", VK_FORMAT_R16_SFLOAT},\n",
      "{\"R_16_SINT\", VK_FORMAT_R16_SINT},\n",
      "{\"R_16_UINT\", VK_FORMAT_R16_UINT},\n",
      "{\"R_32_SFLOAT\", VK_FORMAT_R32_SFLOAT},\n",
      "{\"R_32_SINT\", VK_FORMAT_R32_SINT},\n",
      "{\"R_32_UINT\", VK_FORMAT_R32_UINT},\n",
      "{\"R_64_SFLOAT\", VK_FORMAT_R64_SFLOAT},\n",
      "{\"R_64_SINT\", VK_FORMAT_R64_SINT},\n",
      "{\"R_64_UINT\", VK_FORMAT_R64_UINT},\n",
      "{\"RG_8_SFLOAT\", VK_FORMAT_R8G8_SFLOAT},\n",
      "{\"RG_8_SINT\", VK_FORMAT_R8G8_SINT},\n",
      "{\"RG_8_UINT\", VK_FORMAT_R8G8_UINT},\n",
      "{\"RG_16_SFLOAT\", VK_FORMAT_R16G16_SFLOAT},\n",
      "{\"RG_16_SINT\", VK_FORMAT_R16G16_SINT},\n",
      "{\"RG_16_UINT\", VK_FORMAT_R16G16_UINT},\n",
      "{\"RG_32_SFLOAT\", VK_FORMAT_R32G32_SFLOAT},\n",
      "{\"RG_32_SINT\", VK_FORMAT_R32G32_SINT},\n",
      "{\"RG_32_UINT\", VK_FORMAT_R32G32_UINT},\n",
      "{\"RG_64_SFLOAT\", VK_FORMAT_R64G64_SFLOAT},\n",
      "{\"RG_64_SINT\", VK_FORMAT_R64G64_SINT},\n",
      "{\"RG_64_UINT\", VK_FORMAT_R64G64_UINT},\n",
      "{\"RGB_8_SFLOAT\", VK_FORMAT_R8G8B8_SFLOAT},\n",
      "{\"RGB_8_SINT\", VK_FORMAT_R8G8B8_SINT},\n",
      "{\"RGB_8_UINT\", VK_FORMAT_R8G8B8_UINT},\n",
      "{\"RGB_16_SFLOAT\", VK_FORMAT_R16G16B16_SFLOAT},\n",
      "{\"RGB_16_SINT\", VK_FORMAT_R16G16B16_SINT},\n",
      "{\"RGB_16_UINT\", VK_FORMAT_R16G16B16_UINT},\n",
      "{\"RGB_32_SFLOAT\", VK_FORMAT_R32G32B32_SFLOAT},\n",
      "{\"RGB_32_SINT\", VK_FORMAT_R32G32B32_SINT},\n",
      "{\"RGB_32_UINT\", VK_FORMAT_R32G32B32_UINT},\n",
      "{\"RGB_64_SFLOAT\", VK_FORMAT_R64G64B64_SFLOAT},\n",
      "{\"RGB_64_SINT\", VK_FORMAT_R64G64B64_SINT},\n",
      "{\"RGB_64_UINT\", VK_FORMAT_R64G64B64_UINT},\n",
      "{\"RGBA_8_SFLOAT\", VK_FORMAT_R8G8B8A8_SFLOAT},\n",
      "{\"RGBA_8_SINT\", VK_FORMAT_R8G8B8A8_SINT},\n",
      "{\"RGBA_8_UINT\", VK_FORMAT_R8G8B8A8_UINT},\n",
      "{\"RGBA_16_SFLOAT\", VK_FORMAT_R16G16B16A16_SFLOAT},\n",
      "{\"RGBA_16_SINT\", VK_FORMAT_R16G16B16A16_SINT},\n",
      "{\"RGBA_16_UINT\", VK_FORMAT_R16G16B16A16_UINT},\n",
      "{\"RGBA_32_SFLOAT\", VK_FORMAT_R32G32B32A32_SFLOAT},\n",
      "{\"RGBA_32_SINT\", VK_FORMAT_R32G32B32A32_SINT},\n",
      "{\"RGBA_32_UINT\", VK_FORMAT_R32G32B32A32_UINT},\n",
      "{\"RGBA_64_SFLOAT\", VK_FORMAT_R64G64B64A64_SFLOAT},\n",
      "{\"RGBA_64_SINT\", VK_FORMAT_R64G64B64A64_SINT},\n",
      "{\"RGBA_64_UINT\", VK_FORMAT_R64G64B64A64_UINT},\n",
      "\n"
     ]
    }
   ],
   "source": [
    "s = \"\"\n",
    "\n",
    "for k, v in zip(f, t):\n",
    "    s += f\"{{\\\"{k}\\\", {v}}},\\n\"\n",
    "\n",
    "print(s)"
   ]
  }
 ],
 "metadata": {
  "kernelspec": {
   "display_name": "Python 3",
   "language": "python",
   "name": "python3"
  },
  "language_info": {
   "codemirror_mode": {
    "name": "ipython",
    "version": 3
   },
   "file_extension": ".py",
   "mimetype": "text/x-python",
   "name": "python",
   "nbconvert_exporter": "python",
   "pygments_lexer": "ipython3",
   "version": "3.8.10"
  }
 },
 "nbformat": 4,
 "nbformat_minor": 2
}
