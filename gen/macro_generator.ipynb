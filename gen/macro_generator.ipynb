{
 "cells": [
  {
   "cell_type": "code",
   "execution_count": null,
   "metadata": {},
   "outputs": [],
   "source": [
    "def generate_macros_to_file(count):\n",
    "    print(\"#define GENERATE_TOKEN(count, prefix, postfix) prefix##count##postfix\\n\")\n",
    "    \n",
    "    for i in range(1, count + 1):\n",
    "        if i == 1:\n",
    "            print(f\"#define MACRO_GENERATE_SEQUENCE_OF_TOKEN_{i}(prefix, postfix) GENERATE_TOKEN({i}, prefix, postfix)\")\n",
    "        else:\n",
    "            print(f\"#define MACRO_GENERATE_SEQUENCE_OF_TOKEN_{i}(prefix, postfix) MACRO_GENERATE_SEQUENCE_OF_TOKEN_{i-1}(prefix, postfix), GENERATE_TOKEN({i}, prefix, postfix)\")\n",
    "    \n",
    "    print(f\"\\n#define MACRO_GENERATE_SEQUENCE_OF_TOKEN(count, prefix, postfix) \\\\\")\n",
    "    print(\"    MACRO_GENERATE_SEQUENCE_OF_TOKEN_##count(prefix, postfix)\")\n",
    "\n",
    "generate_macros_to_file(10000)"
   ]
  }
 ],
 "metadata": {
  "kernelspec": {
   "display_name": "Python 3",
   "language": "python",
   "name": "python3"
  },
  "language_info": {
   "codemirror_mode": {
    "name": "ipython",
    "version": 3
   },
   "file_extension": ".py",
   "mimetype": "text/x-python",
   "name": "python",
   "nbconvert_exporter": "python",
   "pygments_lexer": "ipython3",
   "version": "3.8.10"
  }
 },
 "nbformat": 4,
 "nbformat_minor": 2
}
